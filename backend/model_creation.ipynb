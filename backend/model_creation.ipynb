{
 "cells": [
  {
   "cell_type": "code",
   "execution_count": 39,
   "metadata": {},
   "outputs": [],
   "source": [
    "import pandas as pd \n",
    "import numpy as np "
   ]
  },
  {
   "cell_type": "code",
   "execution_count": 40,
   "metadata": {},
   "outputs": [
    {
     "data": {
      "text/html": [
       "<div>\n",
       "<style scoped>\n",
       "    .dataframe tbody tr th:only-of-type {\n",
       "        vertical-align: middle;\n",
       "    }\n",
       "\n",
       "    .dataframe tbody tr th {\n",
       "        vertical-align: top;\n",
       "    }\n",
       "\n",
       "    .dataframe thead th {\n",
       "        text-align: right;\n",
       "    }\n",
       "</style>\n",
       "<table border=\"1\" class=\"dataframe\">\n",
       "  <thead>\n",
       "    <tr style=\"text-align: right;\">\n",
       "      <th></th>\n",
       "      <th>timestamp</th>\n",
       "      <th>activityID</th>\n",
       "      <th>heart_rate</th>\n",
       "      <th>hand_col_1</th>\n",
       "      <th>hand_col_2</th>\n",
       "      <th>hand_col_3</th>\n",
       "      <th>hand_col_4</th>\n",
       "      <th>hand_col_5</th>\n",
       "      <th>hand_col_6</th>\n",
       "      <th>hand_col_7</th>\n",
       "      <th>...</th>\n",
       "      <th>ankle_col_9</th>\n",
       "      <th>ankle_col_10</th>\n",
       "      <th>ankle_col_11</th>\n",
       "      <th>ankle_col_12</th>\n",
       "      <th>ankle_col_13</th>\n",
       "      <th>ankle_col_14</th>\n",
       "      <th>ankle_col_15</th>\n",
       "      <th>ankle_col_16</th>\n",
       "      <th>ankle_col_17</th>\n",
       "      <th>subjectID</th>\n",
       "    </tr>\n",
       "  </thead>\n",
       "  <tbody>\n",
       "    <tr>\n",
       "      <th>0</th>\n",
       "      <td>5.89</td>\n",
       "      <td>0</td>\n",
       "      <td>NaN</td>\n",
       "      <td>33.3125</td>\n",
       "      <td>-9.79760</td>\n",
       "      <td>-1.45670</td>\n",
       "      <td>1.014380</td>\n",
       "      <td>-9.70702</td>\n",
       "      <td>-1.60337</td>\n",
       "      <td>1.32098</td>\n",
       "      <td>...</td>\n",
       "      <td>0.010364</td>\n",
       "      <td>0.010731</td>\n",
       "      <td>-35.4550</td>\n",
       "      <td>38.3829</td>\n",
       "      <td>-17.9083</td>\n",
       "      <td>0.546211</td>\n",
       "      <td>0.370903</td>\n",
       "      <td>0.695334</td>\n",
       "      <td>0.283892</td>\n",
       "      <td>subject108</td>\n",
       "    </tr>\n",
       "    <tr>\n",
       "      <th>1</th>\n",
       "      <td>5.90</td>\n",
       "      <td>0</td>\n",
       "      <td>NaN</td>\n",
       "      <td>33.3125</td>\n",
       "      <td>-9.91204</td>\n",
       "      <td>-1.41822</td>\n",
       "      <td>0.974050</td>\n",
       "      <td>-9.78262</td>\n",
       "      <td>-1.60285</td>\n",
       "      <td>1.29085</td>\n",
       "      <td>...</td>\n",
       "      <td>-0.005926</td>\n",
       "      <td>-0.006704</td>\n",
       "      <td>-35.4508</td>\n",
       "      <td>38.2543</td>\n",
       "      <td>-17.7663</td>\n",
       "      <td>0.545806</td>\n",
       "      <td>0.370867</td>\n",
       "      <td>0.695680</td>\n",
       "      <td>0.283872</td>\n",
       "      <td>subject108</td>\n",
       "    </tr>\n",
       "    <tr>\n",
       "      <th>2</th>\n",
       "      <td>5.91</td>\n",
       "      <td>0</td>\n",
       "      <td>NaN</td>\n",
       "      <td>33.3125</td>\n",
       "      <td>-9.87531</td>\n",
       "      <td>-1.57027</td>\n",
       "      <td>0.975113</td>\n",
       "      <td>-9.78237</td>\n",
       "      <td>-1.57265</td>\n",
       "      <td>1.29079</td>\n",
       "      <td>...</td>\n",
       "      <td>-0.002265</td>\n",
       "      <td>0.014646</td>\n",
       "      <td>-35.6984</td>\n",
       "      <td>38.2688</td>\n",
       "      <td>-17.0580</td>\n",
       "      <td>0.545484</td>\n",
       "      <td>0.371607</td>\n",
       "      <td>0.695437</td>\n",
       "      <td>0.284117</td>\n",
       "      <td>subject108</td>\n",
       "    </tr>\n",
       "    <tr>\n",
       "      <th>3</th>\n",
       "      <td>5.92</td>\n",
       "      <td>0</td>\n",
       "      <td>NaN</td>\n",
       "      <td>33.3125</td>\n",
       "      <td>-9.72175</td>\n",
       "      <td>-1.60870</td>\n",
       "      <td>1.054520</td>\n",
       "      <td>-9.70677</td>\n",
       "      <td>-1.60334</td>\n",
       "      <td>1.35118</td>\n",
       "      <td>...</td>\n",
       "      <td>0.035314</td>\n",
       "      <td>0.010982</td>\n",
       "      <td>-34.9492</td>\n",
       "      <td>38.7447</td>\n",
       "      <td>-17.6233</td>\n",
       "      <td>0.545474</td>\n",
       "      <td>0.372077</td>\n",
       "      <td>0.694859</td>\n",
       "      <td>0.284935</td>\n",
       "      <td>subject108</td>\n",
       "    </tr>\n",
       "    <tr>\n",
       "      <th>4</th>\n",
       "      <td>5.93</td>\n",
       "      <td>0</td>\n",
       "      <td>NaN</td>\n",
       "      <td>33.3125</td>\n",
       "      <td>-9.79920</td>\n",
       "      <td>-1.49497</td>\n",
       "      <td>0.975999</td>\n",
       "      <td>-9.58657</td>\n",
       "      <td>-1.57408</td>\n",
       "      <td>1.27549</td>\n",
       "      <td>...</td>\n",
       "      <td>-0.001065</td>\n",
       "      <td>-0.000410</td>\n",
       "      <td>-35.2105</td>\n",
       "      <td>38.8857</td>\n",
       "      <td>-17.9080</td>\n",
       "      <td>0.545810</td>\n",
       "      <td>0.372349</td>\n",
       "      <td>0.694122</td>\n",
       "      <td>0.285732</td>\n",
       "      <td>subject108</td>\n",
       "    </tr>\n",
       "  </tbody>\n",
       "</table>\n",
       "<p>5 rows × 55 columns</p>\n",
       "</div>"
      ],
      "text/plain": [
       "   timestamp  activityID  heart_rate  hand_col_1  hand_col_2  hand_col_3  \\\n",
       "0       5.89           0         NaN     33.3125    -9.79760    -1.45670   \n",
       "1       5.90           0         NaN     33.3125    -9.91204    -1.41822   \n",
       "2       5.91           0         NaN     33.3125    -9.87531    -1.57027   \n",
       "3       5.92           0         NaN     33.3125    -9.72175    -1.60870   \n",
       "4       5.93           0         NaN     33.3125    -9.79920    -1.49497   \n",
       "\n",
       "   hand_col_4  hand_col_5  hand_col_6  hand_col_7  ...  ankle_col_9  \\\n",
       "0    1.014380    -9.70702    -1.60337     1.32098  ...     0.010364   \n",
       "1    0.974050    -9.78262    -1.60285     1.29085  ...    -0.005926   \n",
       "2    0.975113    -9.78237    -1.57265     1.29079  ...    -0.002265   \n",
       "3    1.054520    -9.70677    -1.60334     1.35118  ...     0.035314   \n",
       "4    0.975999    -9.58657    -1.57408     1.27549  ...    -0.001065   \n",
       "\n",
       "   ankle_col_10  ankle_col_11  ankle_col_12  ankle_col_13  ankle_col_14  \\\n",
       "0      0.010731      -35.4550       38.3829      -17.9083      0.546211   \n",
       "1     -0.006704      -35.4508       38.2543      -17.7663      0.545806   \n",
       "2      0.014646      -35.6984       38.2688      -17.0580      0.545484   \n",
       "3      0.010982      -34.9492       38.7447      -17.6233      0.545474   \n",
       "4     -0.000410      -35.2105       38.8857      -17.9080      0.545810   \n",
       "\n",
       "   ankle_col_15  ankle_col_16  ankle_col_17   subjectID  \n",
       "0      0.370903      0.695334      0.283892  subject108  \n",
       "1      0.370867      0.695680      0.283872  subject108  \n",
       "2      0.371607      0.695437      0.284117  subject108  \n",
       "3      0.372077      0.694859      0.284935  subject108  \n",
       "4      0.372349      0.694122      0.285732  subject108  \n",
       "\n",
       "[5 rows x 55 columns]"
      ]
     },
     "execution_count": 40,
     "metadata": {},
     "output_type": "execute_result"
    }
   ],
   "source": [
    "df = pd.read_csv(\"/Users/almarai/Private Projects/Pacify/data/Protocol/PAMAP2_MERGED.csv\")\n",
    "\n",
    "df.head()"
   ]
  },
  {
   "cell_type": "code",
   "execution_count": 41,
   "metadata": {},
   "outputs": [
    {
     "data": {
      "text/html": [
       "<div>\n",
       "<style scoped>\n",
       "    .dataframe tbody tr th:only-of-type {\n",
       "        vertical-align: middle;\n",
       "    }\n",
       "\n",
       "    .dataframe tbody tr th {\n",
       "        vertical-align: top;\n",
       "    }\n",
       "\n",
       "    .dataframe thead th {\n",
       "        text-align: right;\n",
       "    }\n",
       "</style>\n",
       "<table border=\"1\" class=\"dataframe\">\n",
       "  <thead>\n",
       "    <tr style=\"text-align: right;\">\n",
       "      <th></th>\n",
       "      <th>activityID</th>\n",
       "      <th>heart_rate</th>\n",
       "    </tr>\n",
       "  </thead>\n",
       "  <tbody>\n",
       "    <tr>\n",
       "      <th>6147</th>\n",
       "      <td>1</td>\n",
       "      <td>84.0</td>\n",
       "    </tr>\n",
       "    <tr>\n",
       "      <th>6148</th>\n",
       "      <td>1</td>\n",
       "      <td>NaN</td>\n",
       "    </tr>\n",
       "    <tr>\n",
       "      <th>6149</th>\n",
       "      <td>1</td>\n",
       "      <td>NaN</td>\n",
       "    </tr>\n",
       "    <tr>\n",
       "      <th>6150</th>\n",
       "      <td>1</td>\n",
       "      <td>NaN</td>\n",
       "    </tr>\n",
       "    <tr>\n",
       "      <th>6151</th>\n",
       "      <td>1</td>\n",
       "      <td>NaN</td>\n",
       "    </tr>\n",
       "  </tbody>\n",
       "</table>\n",
       "</div>"
      ],
      "text/plain": [
       "      activityID  heart_rate\n",
       "6147           1        84.0\n",
       "6148           1         NaN\n",
       "6149           1         NaN\n",
       "6150           1         NaN\n",
       "6151           1         NaN"
      ]
     },
     "execution_count": 41,
     "metadata": {},
     "output_type": "execute_result"
    }
   ],
   "source": [
    "df = df[(df[\"activityID\"] != 0)][[\"activityID\", \"heart_rate\"]]\n",
    "df.head()"
   ]
  },
  {
   "cell_type": "code",
   "execution_count": 42,
   "metadata": {},
   "outputs": [
    {
     "name": "stdout",
     "output_type": "stream",
     "text": [
      "<class 'pandas.core.frame.DataFrame'>\n",
      "Index: 1942872 entries, 6147 to 2863455\n",
      "Data columns (total 2 columns):\n",
      " #   Column      Dtype  \n",
      "---  ------      -----  \n",
      " 0   activityID  int64  \n",
      " 1   heart_rate  float64\n",
      "dtypes: float64(1), int64(1)\n",
      "memory usage: 44.5 MB\n"
     ]
    }
   ],
   "source": [
    "df.info()"
   ]
  },
  {
   "cell_type": "code",
   "execution_count": 43,
   "metadata": {},
   "outputs": [],
   "source": [
    "df.dropna(inplace = True)"
   ]
  },
  {
   "cell_type": "code",
   "execution_count": 44,
   "metadata": {},
   "outputs": [
    {
     "name": "stdout",
     "output_type": "stream",
     "text": [
      "<class 'pandas.core.frame.DataFrame'>\n",
      "Index: 177408 entries, 6147 to 2863454\n",
      "Data columns (total 2 columns):\n",
      " #   Column      Non-Null Count   Dtype  \n",
      "---  ------      --------------   -----  \n",
      " 0   activityID  177408 non-null  int64  \n",
      " 1   heart_rate  177408 non-null  float64\n",
      "dtypes: float64(1), int64(1)\n",
      "memory usage: 4.1 MB\n"
     ]
    }
   ],
   "source": [
    "df.info()"
   ]
  },
  {
   "cell_type": "code",
   "execution_count": 45,
   "metadata": {},
   "outputs": [
    {
     "data": {
      "text/html": [
       "<div>\n",
       "<style scoped>\n",
       "    .dataframe tbody tr th:only-of-type {\n",
       "        vertical-align: middle;\n",
       "    }\n",
       "\n",
       "    .dataframe tbody tr th {\n",
       "        vertical-align: top;\n",
       "    }\n",
       "\n",
       "    .dataframe thead th {\n",
       "        text-align: right;\n",
       "    }\n",
       "</style>\n",
       "<table border=\"1\" class=\"dataframe\">\n",
       "  <thead>\n",
       "    <tr style=\"text-align: right;\">\n",
       "      <th></th>\n",
       "      <th>activityID</th>\n",
       "      <th>heart_rate</th>\n",
       "    </tr>\n",
       "  </thead>\n",
       "  <tbody>\n",
       "    <tr>\n",
       "      <th>6147</th>\n",
       "      <td>1</td>\n",
       "      <td>84.0</td>\n",
       "    </tr>\n",
       "    <tr>\n",
       "      <th>6158</th>\n",
       "      <td>1</td>\n",
       "      <td>84.0</td>\n",
       "    </tr>\n",
       "    <tr>\n",
       "      <th>6169</th>\n",
       "      <td>1</td>\n",
       "      <td>84.0</td>\n",
       "    </tr>\n",
       "    <tr>\n",
       "      <th>6180</th>\n",
       "      <td>1</td>\n",
       "      <td>84.0</td>\n",
       "    </tr>\n",
       "    <tr>\n",
       "      <th>6191</th>\n",
       "      <td>1</td>\n",
       "      <td>84.0</td>\n",
       "    </tr>\n",
       "  </tbody>\n",
       "</table>\n",
       "</div>"
      ],
      "text/plain": [
       "      activityID  heart_rate\n",
       "6147           1        84.0\n",
       "6158           1        84.0\n",
       "6169           1        84.0\n",
       "6180           1        84.0\n",
       "6191           1        84.0"
      ]
     },
     "execution_count": 45,
     "metadata": {},
     "output_type": "execute_result"
    }
   ],
   "source": [
    "df.head()"
   ]
  },
  {
   "cell_type": "markdown",
   "metadata": {},
   "source": [
    "Now we create a column for the bpm based on the heart rate. This value will currently be chosen in a random fashion, but the selection of this value will be more advanced in advanced versions. "
   ]
  },
  {
   "cell_type": "code",
   "execution_count": 46,
   "metadata": {},
   "outputs": [],
   "source": [
    "import random\n",
    "\n",
    "def map_music_bpm(hr):\n",
    "    if not isinstance(hr, (int, float)):\n",
    "        raise ValueError(\"Heart rate must be a number.\")\n",
    "    if hr <= 90:\n",
    "        return random.uniform(60, 80)\n",
    "    elif hr <= 120:\n",
    "        return random.uniform(100, 120)\n",
    "    elif hr <= 150:\n",
    "        return random.uniform(130, 150)\n",
    "    else:\n",
    "        return random.uniform(160, 180)\n",
    "\n",
    "\n"
   ]
  },
  {
   "cell_type": "code",
   "execution_count": 49,
   "metadata": {},
   "outputs": [
    {
     "name": "stdout",
     "output_type": "stream",
     "text": [
      "<class 'pandas.core.frame.DataFrame'>\n",
      "Index: 177408 entries, 6147 to 2863454\n",
      "Data columns (total 3 columns):\n",
      " #   Column      Non-Null Count   Dtype  \n",
      "---  ------      --------------   -----  \n",
      " 0   activityID  177408 non-null  int64  \n",
      " 1   heart_rate  177408 non-null  float64\n",
      " 2   bpm         177408 non-null  float64\n",
      "dtypes: float64(2), int64(1)\n",
      "memory usage: 5.4 MB\n"
     ]
    }
   ],
   "source": [
    "df[\"bpm\"] = df[\"heart_rate\"].apply(map_music_bpm)\n",
    "\n",
    "df.info()"
   ]
  },
  {
   "cell_type": "markdown",
   "metadata": {},
   "source": [
    "Note the indices error you were getting with the previous code. This is because when you create and individual series of bpm_values, the indices don't match the row indices with the heart_rate values (because you droppped null values). So we use the apply function to avoid the error of misplaced indices. Another fix would be to reset the indices of the dataset and then apply the function.  "
   ]
  },
  {
   "cell_type": "markdown",
   "metadata": {},
   "source": [
    "Now we our final dataset, we train the knn regressor. "
   ]
  },
  {
   "cell_type": "code",
   "execution_count": 51,
   "metadata": {},
   "outputs": [],
   "source": [
    "from sklearn.model_selection import train_test_split \n",
    "\n",
    "X = df.drop(columns = [\"bpm\"])\n",
    "y = df[\"bpm\"]\n",
    "\n",
    "X_train, X_test, y_train, y_test = train_test_split(X, y, test_size = 0.3, random_state = 42)"
   ]
  },
  {
   "cell_type": "code",
   "execution_count": 52,
   "metadata": {},
   "outputs": [
    {
     "name": "stdout",
     "output_type": "stream",
     "text": [
      "KNN Regression:\n",
      " MAE: 5.326\n",
      " RMSE: 6.318\n",
      " R^2: 0.962\n"
     ]
    }
   ],
   "source": [
    "from sklearn.neighbors import KNeighborsRegressor\n",
    "from sklearn.linear_model import LinearRegression\n",
    "from sklearn.metrics import mean_absolute_error, mean_squared_error, r2_score\n",
    "\n",
    "# ✅ 4. KNN Regression\n",
    "knn = KNeighborsRegressor(n_neighbors=5)  # k=5, you can tune this\n",
    "\n",
    "# Fit the model\n",
    "knn.fit(X_train, y_train)\n",
    "\n",
    "# Predict\n",
    "y_pred_knn = knn.predict(X_test)\n",
    "\n",
    "# ✅ 5. Evaluate KNN Regression\n",
    "mae_knn = mean_absolute_error(y_test, y_pred_knn)\n",
    "rmse_knn = np.sqrt(mean_squared_error(y_test, y_pred_knn))\n",
    "r2_knn = r2_score(y_test, y_pred_knn)\n",
    "\n",
    "print(\"KNN Regression:\")\n",
    "print(f\" MAE: {mae_knn:.3f}\")\n",
    "print(f\" RMSE: {rmse_knn:.3f}\")\n",
    "print(f\" R^2: {r2_knn:.3f}\")"
   ]
  },
  {
   "cell_type": "code",
   "execution_count": 53,
   "metadata": {},
   "outputs": [
    {
     "name": "stdout",
     "output_type": "stream",
     "text": [
      "\n",
      "Multiple Linear Regression:\n",
      " MAE: 10.245\n",
      " RMSE: 12.364\n",
      " R^2: 0.853\n"
     ]
    }
   ],
   "source": [
    "# ✅ 6. Multiple Linear Regression\n",
    "linreg = LinearRegression()\n",
    "\n",
    "# Fit the model\n",
    "linreg.fit(X_train, y_train)\n",
    "\n",
    "# Predict\n",
    "y_pred_lr = linreg.predict(X_test)\n",
    "\n",
    "# ✅ 7. Evaluate Multiple Linear Regression\n",
    "mae_lr = mean_absolute_error(y_test, y_pred_lr)\n",
    "rmse_lr = np.sqrt(mean_squared_error(y_test, y_pred_lr))\n",
    "r2_lr = r2_score(y_test, y_pred_lr)\n",
    "\n",
    "print(\"\\nMultiple Linear Regression:\")\n",
    "print(f\" MAE: {mae_lr:.3f}\")\n",
    "print(f\" RMSE: {rmse_lr:.3f}\")\n",
    "print(f\" R^2: {r2_lr:.3f}\")"
   ]
  },
  {
   "cell_type": "markdown",
   "metadata": {},
   "source": [
    "Now we also perform cross-validation to correctly interpret our results and see if our KNN model is overfitting the data, and we also try one tree based Regressor, namely RandomForestRegressor."
   ]
  },
  {
   "cell_type": "code",
   "execution_count": 54,
   "metadata": {},
   "outputs": [
    {
     "name": "stdout",
     "output_type": "stream",
     "text": [
      "\n",
      "KNN CV R²: [0.96614309 0.957088   0.94528366 0.96399639 0.96091781]\n",
      "KNN Mean R²: 0.9587 ± 0.0074\n",
      "\n",
      "Linear Regression CV R²: [0.85205511 0.849101   0.80223027 0.86558403 0.82757679]\n",
      "Linear Regression Mean R²: 0.8393 ± 0.0222\n",
      "\n",
      "Random Forest CV R²: [0.97107019 0.96440795 0.95221714 0.96835068 0.96758262]\n",
      "Random Forest Mean R²: 0.9647 ± 0.0066\n"
     ]
    }
   ],
   "source": [
    "from sklearn.model_selection import cross_val_score\n",
    "from sklearn.ensemble import RandomForestRegressor\n",
    "\n",
    "knn2 = KNeighborsRegressor(n_neighbors=5)\n",
    "linreg2 = LinearRegression()\n",
    "rf = RandomForestRegressor(n_estimators=100, random_state=42)\n",
    "\n",
    "# 3. Run CV\n",
    "for model, name in zip([knn, linreg, rf], [\"KNN\", \"Linear Regression\", \"Random Forest\"]):\n",
    "    scores = cross_val_score(model, X, y, cv=5, scoring='r2')\n",
    "    print(f\"\\n{name} CV R²: {scores}\")\n",
    "    print(f\"{name} Mean R²: {scores.mean():.4f} ± {scores.std():.4f}\")"
   ]
  },
  {
   "cell_type": "markdown",
   "metadata": {},
   "source": [
    "We can see that in the case of our dataset, the RandomForestRegressor has the best R^2 Score, which usually translates to a good prediction algorithm for the ideal beats per minute. "
   ]
  },
  {
   "cell_type": "markdown",
   "metadata": {},
   "source": [
    "From analysis, we know that a linear model between the data is more practical, than a KNN model because the data has many points of bpm in a specific heart range, thus allowing the model to predict in the given heart range well. For bumpier data a linear model would be much more practical. So we follow through with a linear model which can be altered as we change our model later on. "
   ]
  },
  {
   "cell_type": "code",
   "execution_count": 57,
   "metadata": {},
   "outputs": [
    {
     "name": "stdout",
     "output_type": "stream",
     "text": [
      "✅ Model saved!\n"
     ]
    }
   ],
   "source": [
    "import joblib\n",
    "\n",
    "# 2. Save the model\n",
    "joblib.dump(linreg, '/Users/almarai/Private Projects/Pacify/backend/models/linear_regression_model.pkl')\n",
    "print(\"✅ Model saved!\")"
   ]
  },
  {
   "cell_type": "code",
   "execution_count": 59,
   "metadata": {},
   "outputs": [
    {
     "name": "stdout",
     "output_type": "stream",
     "text": [
      "✅ Model loaded!\n",
      "Predicted value: [84.33025453]\n"
     ]
    },
    {
     "name": "stderr",
     "output_type": "stream",
     "text": [
      "/Library/Frameworks/Python.framework/Versions/3.11/lib/python3.11/site-packages/sklearn/utils/validation.py:2749: UserWarning: X does not have valid feature names, but LinearRegression was fitted with feature names\n",
      "  warnings.warn(\n"
     ]
    }
   ],
   "source": [
    "# 3. Load the model later\n",
    "loaded_model = joblib.load('/Users/almarai/Private Projects/Pacify/backend/models/linear_regression_model.pkl')\n",
    "print(\"✅ Model loaded!\")\n",
    "\n",
    "# 4. Predict with the loaded model\n",
    "y_pred = loaded_model.predict([[1, 85]])\n",
    "print(\"Predicted value:\", y_pred)"
   ]
  },
  {
   "cell_type": "markdown",
   "metadata": {},
   "source": [
    "Now we have successfully created and saved our linear regression model. "
   ]
  }
 ],
 "metadata": {
  "kernelspec": {
   "display_name": "Python 3",
   "language": "python",
   "name": "python3"
  },
  "language_info": {
   "codemirror_mode": {
    "name": "ipython",
    "version": 3
   },
   "file_extension": ".py",
   "mimetype": "text/x-python",
   "name": "python",
   "nbconvert_exporter": "python",
   "pygments_lexer": "ipython3",
   "version": "3.11.4"
  }
 },
 "nbformat": 4,
 "nbformat_minor": 2
}
